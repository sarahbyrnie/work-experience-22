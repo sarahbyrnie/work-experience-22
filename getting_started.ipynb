{
 "cells": [
  {
   "cell_type": "markdown",
   "metadata": {},
   "source": [
    "# Notebook for getting started with CIF data manipulation\n",
    "\n",
    "## Data\n",
    "The data files in this repo are zipped as they are too large raw to be held on github. The first cell below can be used to unzip the files, changing the names as needed.\n",
    "\n",
    "## Getting started\n",
    "The starting cells do a basic reading in of a cif data file, storing the data into a pandas data frame."
   ]
  },
  {
   "cell_type": "code",
   "execution_count": 1,
   "metadata": {},
   "outputs": [],
   "source": [
    "# Code for unzipping zipped data files in repository\n",
    "import gzip\n",
    "import shutil\n",
    "\n",
    "in_file = \"trains-220422-full.cif.gz\"\n",
    "out_file = \"trains_220422_full.cif\"\n",
    "\n",
    "with gzip.open(in_file, \"rb\") as f_in:\n",
    "    with open(out_file, \"wb\") as f_out:\n",
    "        shutil.copyfileobj(f_in, f_out)"
   ]
  },
  {
   "cell_type": "code",
   "execution_count": null,
   "metadata": {},
   "outputs": [],
   "source": [
    "# Imports\n",
    "import pandas as pd"
   ]
  },
  {
   "cell_type": "code",
   "execution_count": null,
   "metadata": {},
   "outputs": [],
   "source": [
    "# Read data file into pandas data frame\n",
    "\n",
    "cif_input_file = \"trains_220422_full.cif\"\n",
    "\n",
    "with open(cif_input_file) as file:\n",
    "    lines = file.readlines()\n",
    "    \n",
    "data = pd.DataFrame(lines, columns = [\"full_line\"])"
   ]
  },
  {
   "cell_type": "code",
   "execution_count": null,
   "metadata": {},
   "outputs": [],
   "source": [
    "print(data)"
   ]
  }
 ],
 "metadata": {
  "kernelspec": {
   "display_name": "Python 3.8.3 ('base')",
   "language": "python",
   "name": "python3"
  },
  "language_info": {
   "codemirror_mode": {
    "name": "ipython",
    "version": 3
   },
   "file_extension": ".py",
   "mimetype": "text/x-python",
   "name": "python",
   "nbconvert_exporter": "python",
   "pygments_lexer": "ipython3",
   "version": "3.8.3"
  },
  "vscode": {
   "interpreter": {
    "hash": "38c97dd3f3f7bbb512c4fb2954670d9d7687fd98061781eca8990946c813dfa0"
   }
  }
 },
 "nbformat": 4,
 "nbformat_minor": 4
}
